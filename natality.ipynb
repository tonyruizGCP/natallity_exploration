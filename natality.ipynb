{
 "cells": [
  {
   "cell_type": "markdown",
   "id": "e517f52f-b728-4d71-93fb-cfcc5ed3e23b",
   "metadata": {},
   "source": [
    "## Step 0: Import Python packages"
   ]
  },
  {
   "cell_type": "markdown",
   "id": "22719972-a7a3-4982-a6b7-69f3371dc859",
   "metadata": {},
   "source": [
    "Let start by importing some basic packages "
   ]
  },
  {
   "cell_type": "code",
   "execution_count": 1,
   "id": "5c265b75-29e5-4e68-83b0-849b885b5913",
   "metadata": {},
   "outputs": [],
   "source": [
    "import pandas as pd\n",
    "import tensorflow as tf\n",
    "from tensorflow.keras import Sequential\n",
    "from tensorflow.keras.layers import Dense\n",
    "\n",
    "import numpy as np\n",
    "import json\n",
    "\n",
    "from sklearn.model_selection import train_test_split\n",
    "from sklearn.utils import shuffle\n",
    "from google.cloud import bigquery\n",
    "from witwidget.notebook.visualization import WitWidget, WitConfigBuilder\n"
   ]
  },
  {
   "cell_type": "markdown",
   "id": "11755408-9494-4472-bb7b-f228bfc2958b",
   "metadata": {},
   "source": [
    "## Step 1: Download BigQuery data to our notebook\n"
   ]
  },
  {
   "cell_type": "markdown",
   "id": "861d111f-77fd-4b9f-b2be-a2073757d860",
   "metadata": {},
   "source": [
    "Click on the home button of you cloud console and fill in the values for your Project Number and Project ID. We are going to use te BigQuery Python SDK to query our Data Warehouse for the Natality dataset"
   ]
  },
  {
   "cell_type": "code",
   "execution_count": 2,
   "id": "ba69f387-a417-4c18-adea-a5e3595226c5",
   "metadata": {},
   "outputs": [],
   "source": [
    "import os\n",
    "\n",
    "from google.cloud import bigquery\n",
    "\n",
    "# Find your project number \n",
    "PROJECT_NUMBER = # ENTER PROJECT NUMBER HERE\n",
    "PROJECT_ID = #ENTER PROJECT ID HERE \n",
    "client = bigquery.Client(project=PROJECT_NUMBER)"
   ]
  },
  {
   "cell_type": "markdown",
   "id": "f1236d79-efa2-47cc-83c3-db4a7d58e7f9",
   "metadata": {},
   "source": [
    "Using the python SDK, we can use SQL to retrieve our dataset and send it to a python data frame"
   ]
  },
  {
   "cell_type": "code",
   "execution_count": 3,
   "id": "5a71df65-e666-4cf3-b79a-bc178454631d",
   "metadata": {},
   "outputs": [
    {
     "data": {
      "text/html": [
       "<div>\n",
       "<style scoped>\n",
       "    .dataframe tbody tr th:only-of-type {\n",
       "        vertical-align: middle;\n",
       "    }\n",
       "\n",
       "    .dataframe tbody tr th {\n",
       "        vertical-align: top;\n",
       "    }\n",
       "\n",
       "    .dataframe thead th {\n",
       "        text-align: right;\n",
       "    }\n",
       "</style>\n",
       "<table border=\"1\" class=\"dataframe\">\n",
       "  <thead>\n",
       "    <tr style=\"text-align: right;\">\n",
       "      <th></th>\n",
       "      <th>weight_pounds</th>\n",
       "      <th>is_male</th>\n",
       "      <th>mother_age</th>\n",
       "      <th>plurality</th>\n",
       "      <th>gestation_weeks</th>\n",
       "    </tr>\n",
       "  </thead>\n",
       "  <tbody>\n",
       "    <tr>\n",
       "      <th>0</th>\n",
       "      <td>7.568469</td>\n",
       "      <td>True</td>\n",
       "      <td>22</td>\n",
       "      <td>1</td>\n",
       "      <td>46.0</td>\n",
       "    </tr>\n",
       "    <tr>\n",
       "      <th>1</th>\n",
       "      <td>8.807467</td>\n",
       "      <td>True</td>\n",
       "      <td>39</td>\n",
       "      <td>1</td>\n",
       "      <td>42.0</td>\n",
       "    </tr>\n",
       "    <tr>\n",
       "      <th>2</th>\n",
       "      <td>8.313632</td>\n",
       "      <td>True</td>\n",
       "      <td>23</td>\n",
       "      <td>1</td>\n",
       "      <td>35.0</td>\n",
       "    </tr>\n",
       "    <tr>\n",
       "      <th>3</th>\n",
       "      <td>8.000575</td>\n",
       "      <td>False</td>\n",
       "      <td>27</td>\n",
       "      <td>1</td>\n",
       "      <td>40.0</td>\n",
       "    </tr>\n",
       "    <tr>\n",
       "      <th>4</th>\n",
       "      <td>6.563162</td>\n",
       "      <td>False</td>\n",
       "      <td>29</td>\n",
       "      <td>1</td>\n",
       "      <td>39.0</td>\n",
       "    </tr>\n",
       "  </tbody>\n",
       "</table>\n",
       "</div>"
      ],
      "text/plain": [
       "   weight_pounds  is_male  mother_age  plurality  gestation_weeks\n",
       "0       7.568469     True          22          1             46.0\n",
       "1       8.807467     True          39          1             42.0\n",
       "2       8.313632     True          23          1             35.0\n",
       "3       8.000575    False          27          1             40.0\n",
       "4       6.563162    False          29          1             39.0"
      ]
     },
     "execution_count": 3,
     "metadata": {},
     "output_type": "execute_result"
    }
   ],
   "source": [
    "query=\"\"\"\n",
    "SELECT\n",
    "  weight_pounds,\n",
    "  is_male,\n",
    "  mother_age,\n",
    "  plurality,\n",
    "  gestation_weeks\n",
    "FROM\n",
    "  publicdata.samples.natality\n",
    "WHERE year > 2000\n",
    "LIMIT 10000\n",
    "\"\"\"\n",
    "df = client.query(query).to_dataframe()\n",
    "df.head()"
   ]
  },
  {
   "cell_type": "code",
   "execution_count": 4,
   "id": "a721abc4-151b-44f9-876a-4327b5ec0f66",
   "metadata": {
    "tags": []
   },
   "outputs": [
    {
     "data": {
      "text/html": [
       "<div>\n",
       "<style scoped>\n",
       "    .dataframe tbody tr th:only-of-type {\n",
       "        vertical-align: middle;\n",
       "    }\n",
       "\n",
       "    .dataframe tbody tr th {\n",
       "        vertical-align: top;\n",
       "    }\n",
       "\n",
       "    .dataframe thead th {\n",
       "        text-align: right;\n",
       "    }\n",
       "</style>\n",
       "<table border=\"1\" class=\"dataframe\">\n",
       "  <thead>\n",
       "    <tr style=\"text-align: right;\">\n",
       "      <th></th>\n",
       "      <th>weight_pounds</th>\n",
       "      <th>mother_age</th>\n",
       "      <th>plurality</th>\n",
       "      <th>gestation_weeks</th>\n",
       "    </tr>\n",
       "  </thead>\n",
       "  <tbody>\n",
       "    <tr>\n",
       "      <th>count</th>\n",
       "      <td>9991.000000</td>\n",
       "      <td>10000.000000</td>\n",
       "      <td>10000.000000</td>\n",
       "      <td>9888.000000</td>\n",
       "    </tr>\n",
       "    <tr>\n",
       "      <th>mean</th>\n",
       "      <td>7.278609</td>\n",
       "      <td>27.365300</td>\n",
       "      <td>1.030300</td>\n",
       "      <td>38.681634</td>\n",
       "    </tr>\n",
       "    <tr>\n",
       "      <th>std</th>\n",
       "      <td>1.354406</td>\n",
       "      <td>6.235699</td>\n",
       "      <td>0.183808</td>\n",
       "      <td>2.622498</td>\n",
       "    </tr>\n",
       "    <tr>\n",
       "      <th>min</th>\n",
       "      <td>0.500449</td>\n",
       "      <td>12.000000</td>\n",
       "      <td>1.000000</td>\n",
       "      <td>19.000000</td>\n",
       "    </tr>\n",
       "    <tr>\n",
       "      <th>25%</th>\n",
       "      <td>6.624891</td>\n",
       "      <td>22.000000</td>\n",
       "      <td>1.000000</td>\n",
       "      <td>38.000000</td>\n",
       "    </tr>\n",
       "    <tr>\n",
       "      <th>50%</th>\n",
       "      <td>7.374463</td>\n",
       "      <td>27.000000</td>\n",
       "      <td>1.000000</td>\n",
       "      <td>39.000000</td>\n",
       "    </tr>\n",
       "    <tr>\n",
       "      <th>75%</th>\n",
       "      <td>8.124034</td>\n",
       "      <td>32.000000</td>\n",
       "      <td>1.000000</td>\n",
       "      <td>40.000000</td>\n",
       "    </tr>\n",
       "    <tr>\n",
       "      <th>max</th>\n",
       "      <td>12.936726</td>\n",
       "      <td>51.000000</td>\n",
       "      <td>4.000000</td>\n",
       "      <td>47.000000</td>\n",
       "    </tr>\n",
       "  </tbody>\n",
       "</table>\n",
       "</div>"
      ],
      "text/plain": [
       "       weight_pounds    mother_age     plurality  gestation_weeks\n",
       "count    9991.000000  10000.000000  10000.000000      9888.000000\n",
       "mean        7.278609     27.365300      1.030300        38.681634\n",
       "std         1.354406      6.235699      0.183808         2.622498\n",
       "min         0.500449     12.000000      1.000000        19.000000\n",
       "25%         6.624891     22.000000      1.000000        38.000000\n",
       "50%         7.374463     27.000000      1.000000        39.000000\n",
       "75%         8.124034     32.000000      1.000000        40.000000\n",
       "max        12.936726     51.000000      4.000000        47.000000"
      ]
     },
     "execution_count": 4,
     "metadata": {},
     "output_type": "execute_result"
    }
   ],
   "source": [
    "df.describe()"
   ]
  },
  {
   "cell_type": "code",
   "execution_count": 5,
   "id": "f4552b1f-c48a-4966-94a5-a481d1a2d8c3",
   "metadata": {},
   "outputs": [
    {
     "data": {
      "text/plain": [
       "True     5190\n",
       "False    4810\n",
       "Name: is_male, dtype: int64"
      ]
     },
     "execution_count": 5,
     "metadata": {},
     "output_type": "execute_result"
    }
   ],
   "source": [
    "df['is_male'].value_counts()\n"
   ]
  },
  {
   "cell_type": "markdown",
   "id": "efe9fe02-8635-4455-966e-bfe2b680336d",
   "metadata": {},
   "source": [
    "## Step 2: Prepare the dataset for training"
   ]
  },
  {
   "cell_type": "markdown",
   "id": "4ea01428-7116-4606-a0ee-e60fb6ed3fc2",
   "metadata": {},
   "source": [
    "In order to save on time and go through the lab, we are going to do some very light preprocessing."
   ]
  },
  {
   "cell_type": "code",
   "execution_count": 6,
   "id": "157b52ea-5076-4b22-ae55-51505eb4d157",
   "metadata": {},
   "outputs": [],
   "source": [
    "# drop nulls\n",
    "df = df.dropna()\n",
    "\n",
    "# shuffle is a module from sklearn utils \n",
    "df = shuffle(df, random_state=2) \n",
    "\n",
    "# grab our target column\n",
    "labels = df['weight_pounds']\n",
    "\n",
    "# grab our data\n",
    "data = df.drop(columns=['weight_pounds'])\n",
    "\n",
    "# one hot encoding\n",
    "data['is_male'] = data['is_male'].astype(int)"
   ]
  },
  {
   "cell_type": "code",
   "execution_count": 10,
   "id": "c3bb1028-d576-440e-bfad-8c7373ac766f",
   "metadata": {},
   "outputs": [],
   "source": []
  },
  {
   "cell_type": "code",
   "execution_count": 7,
   "id": "0690f9b8-34d9-4144-bfc3-b4aec5f8070d",
   "metadata": {},
   "outputs": [
    {
     "data": {
      "text/html": [
       "<div>\n",
       "<style scoped>\n",
       "    .dataframe tbody tr th:only-of-type {\n",
       "        vertical-align: middle;\n",
       "    }\n",
       "\n",
       "    .dataframe tbody tr th {\n",
       "        vertical-align: top;\n",
       "    }\n",
       "\n",
       "    .dataframe thead th {\n",
       "        text-align: right;\n",
       "    }\n",
       "</style>\n",
       "<table border=\"1\" class=\"dataframe\">\n",
       "  <thead>\n",
       "    <tr style=\"text-align: right;\">\n",
       "      <th></th>\n",
       "      <th>is_male</th>\n",
       "      <th>mother_age</th>\n",
       "      <th>plurality</th>\n",
       "      <th>gestation_weeks</th>\n",
       "    </tr>\n",
       "  </thead>\n",
       "  <tbody>\n",
       "    <tr>\n",
       "      <th>39</th>\n",
       "      <td>1</td>\n",
       "      <td>25</td>\n",
       "      <td>1</td>\n",
       "      <td>40.0</td>\n",
       "    </tr>\n",
       "    <tr>\n",
       "      <th>6130</th>\n",
       "      <td>0</td>\n",
       "      <td>20</td>\n",
       "      <td>1</td>\n",
       "      <td>40.0</td>\n",
       "    </tr>\n",
       "    <tr>\n",
       "      <th>5986</th>\n",
       "      <td>0</td>\n",
       "      <td>26</td>\n",
       "      <td>1</td>\n",
       "      <td>38.0</td>\n",
       "    </tr>\n",
       "    <tr>\n",
       "      <th>7683</th>\n",
       "      <td>0</td>\n",
       "      <td>23</td>\n",
       "      <td>1</td>\n",
       "      <td>41.0</td>\n",
       "    </tr>\n",
       "    <tr>\n",
       "      <th>4914</th>\n",
       "      <td>0</td>\n",
       "      <td>24</td>\n",
       "      <td>1</td>\n",
       "      <td>39.0</td>\n",
       "    </tr>\n",
       "  </tbody>\n",
       "</table>\n",
       "</div>"
      ],
      "text/plain": [
       "      is_male  mother_age  plurality  gestation_weeks\n",
       "39          1          25          1             40.0\n",
       "6130        0          20          1             40.0\n",
       "5986        0          26          1             38.0\n",
       "7683        0          23          1             41.0\n",
       "4914        0          24          1             39.0"
      ]
     },
     "execution_count": 7,
     "metadata": {},
     "output_type": "execute_result"
    }
   ],
   "source": [
    "data.head()"
   ]
  },
  {
   "cell_type": "markdown",
   "id": "1e039aac-d603-4806-8bbb-5eb5eae419f7",
   "metadata": {},
   "source": [
    "## Step 3: Split the data into train test sets"
   ]
  },
  {
   "cell_type": "markdown",
   "id": "69d0c560-2956-4975-ae69-e70031f091fb",
   "metadata": {},
   "source": [
    "Once the data is prepped, the next step is to perform our train test split and define our model. We will be creating a Sequential Kera model with an RELU activation function"
   ]
  },
  {
   "cell_type": "code",
   "execution_count": 8,
   "id": "6aa9809c-4c63-4b37-a85f-b571e261dd23",
   "metadata": {},
   "outputs": [],
   "source": [
    "x,y = data,labels\n",
    "x_train,x_test,y_train,y_test = train_test_split(x,y)"
   ]
  },
  {
   "cell_type": "code",
   "execution_count": 9,
   "id": "769497a2-efaf-41ea-930c-e02dbcf22383",
   "metadata": {},
   "outputs": [
    {
     "name": "stderr",
     "output_type": "stream",
     "text": [
      "2022-06-22 22:14:12.510804: W tensorflow/stream_executor/platform/default/dso_loader.cc:64] Could not load dynamic library 'libcuda.so.1'; dlerror: libcuda.so.1: cannot open shared object file: No such file or directory; LD_LIBRARY_PATH: /usr/local/cuda/lib64:/usr/local/cuda/lib:/usr/local/lib/x86_64-linux-gnu:/usr/local/nvidia/lib:/usr/local/nvidia/lib64:/usr/local/nvidia/lib:/usr/local/nvidia/lib64\n",
      "2022-06-22 22:14:12.510915: W tensorflow/stream_executor/cuda/cuda_driver.cc:269] failed call to cuInit: UNKNOWN ERROR (303)\n",
      "2022-06-22 22:14:12.510964: I tensorflow/stream_executor/cuda/cuda_diagnostics.cc:156] kernel driver does not appear to be running on this host (89fb02f5e3b4): /proc/driver/nvidia/version does not exist\n",
      "2022-06-22 22:14:12.512965: I tensorflow/core/platform/cpu_feature_guard.cc:193] This TensorFlow binary is optimized with oneAPI Deep Neural Network Library (oneDNN) to use the following CPU instructions in performance-critical operations:  AVX2 FMA\n",
      "To enable them in other operations, rebuild TensorFlow with the appropriate compiler flags.\n"
     ]
    }
   ],
   "source": [
    "model = Sequential([\n",
    "    Dense(64, activation='relu', input_shape=(len(x_train.iloc[0]),)),\n",
    "    Dense(32, activation='relu'),\n",
    "    Dense(1)]\n",
    ")"
   ]
  },
  {
   "cell_type": "markdown",
   "id": "70e1d835-953d-40da-93c4-c90dbad6646a",
   "metadata": {},
   "source": [
    "## Step 4: Train the model"
   ]
  },
  {
   "cell_type": "markdown",
   "id": "f32a3903-a604-491c-b7a4-4782bd829927",
   "metadata": {},
   "source": [
    "Once we have defined the model, next step is to compile and train"
   ]
  },
  {
   "cell_type": "code",
   "execution_count": 10,
   "id": "15c51195-b152-4d5c-964f-63b15c06ab8b",
   "metadata": {},
   "outputs": [],
   "source": [
    "model.compile(optimizer=tf.keras.optimizers.RMSprop(),\n",
    "              loss=tf.keras.losses.MeanSquaredError(),\n",
    "              metrics=['mae', 'mse'])"
   ]
  },
  {
   "cell_type": "code",
   "execution_count": 11,
   "id": "58655b9b-8977-4649-b84d-e0b8eb98ccea",
   "metadata": {},
   "outputs": [
    {
     "name": "stdout",
     "output_type": "stream",
     "text": [
      "Epoch 1/10\n",
      "209/209 [==============================] - 3s 3ms/step - loss: 1.8505 - mae: 1.0364 - mse: 1.8505 - val_loss: 1.6585 - val_mae: 1.0119 - val_mse: 1.6585\n",
      "Epoch 2/10\n",
      "209/209 [==============================] - 0s 2ms/step - loss: 1.4831 - mae: 0.9500 - mse: 1.4831 - val_loss: 1.2790 - val_mae: 0.8701 - val_mse: 1.2790\n",
      "Epoch 3/10\n",
      "209/209 [==============================] - 0s 2ms/step - loss: 1.4271 - mae: 0.9293 - mse: 1.4271 - val_loss: 2.0649 - val_mae: 1.1703 - val_mse: 2.0649\n",
      "Epoch 4/10\n",
      "209/209 [==============================] - 0s 2ms/step - loss: 1.4003 - mae: 0.9178 - mse: 1.4003 - val_loss: 1.2440 - val_mae: 0.8605 - val_mse: 1.2440\n",
      "Epoch 5/10\n",
      "209/209 [==============================] - 0s 2ms/step - loss: 1.3733 - mae: 0.9137 - mse: 1.3733 - val_loss: 1.3618 - val_mae: 0.9160 - val_mse: 1.3618\n",
      "Epoch 6/10\n",
      "209/209 [==============================] - 0s 2ms/step - loss: 1.3544 - mae: 0.9034 - mse: 1.3544 - val_loss: 1.3603 - val_mae: 0.9231 - val_mse: 1.3603\n",
      "Epoch 7/10\n",
      "209/209 [==============================] - 1s 2ms/step - loss: 1.3346 - mae: 0.8995 - mse: 1.3346 - val_loss: 1.2020 - val_mae: 0.8420 - val_mse: 1.2020\n",
      "Epoch 8/10\n",
      "209/209 [==============================] - 0s 2ms/step - loss: 1.3230 - mae: 0.8939 - mse: 1.3230 - val_loss: 1.3141 - val_mae: 0.8849 - val_mse: 1.3141\n",
      "Epoch 9/10\n",
      "209/209 [==============================] - 0s 2ms/step - loss: 1.3018 - mae: 0.8899 - mse: 1.3018 - val_loss: 1.4659 - val_mae: 0.9643 - val_mse: 1.4659\n",
      "Epoch 10/10\n",
      "209/209 [==============================] - 0s 2ms/step - loss: 1.2819 - mae: 0.8785 - mse: 1.2819 - val_loss: 1.2125 - val_mae: 0.8451 - val_mse: 1.2125\n"
     ]
    },
    {
     "data": {
      "text/plain": [
       "<keras.callbacks.History at 0x7f51f07b1f50>"
      ]
     },
     "execution_count": 11,
     "metadata": {},
     "output_type": "execute_result"
    }
   ],
   "source": [
    "model.fit(x_train, y_train, epochs=10, validation_split=0.1)\n"
   ]
  },
  {
   "cell_type": "markdown",
   "id": "c5327ddf-1540-4bea-a7a6-67633b400fdd",
   "metadata": {},
   "source": [
    "## Step 5: Evaluate the model "
   ]
  },
  {
   "cell_type": "markdown",
   "id": "7f26e884-848a-4a51-9491-47bdf4a3b168",
   "metadata": {},
   "source": [
    "We can grab a set of samples from our test dataset to run a quick evaluation on our predictions."
   ]
  },
  {
   "cell_type": "code",
   "execution_count": 12,
   "id": "2e2579e1-479f-404c-8f17-d33beab1e314",
   "metadata": {},
   "outputs": [
    {
     "name": "stdout",
     "output_type": "stream",
     "text": [
      "1/1 [==============================] - 0s 136ms/step\n"
     ]
    }
   ],
   "source": [
    "num_examples = 10\n",
    "predictions = model.predict(x_test[:num_examples])"
   ]
  },
  {
   "cell_type": "code",
   "execution_count": 13,
   "id": "54309bba-010d-4010-ad0c-0d419f153c16",
   "metadata": {},
   "outputs": [
    {
     "name": "stdout",
     "output_type": "stream",
     "text": [
      "Predicted val:  6.6830378\n",
      "Actual val:  6.3118345610599995\n",
      "\n",
      "Predicted val:  6.485905\n",
      "Actual val:  5.37486994756\n",
      "\n",
      "Predicted val:  7.255404\n",
      "Actual val:  6.9996768185\n",
      "\n",
      "Predicted val:  7.660682\n",
      "Actual val:  9.00808802532\n",
      "\n",
      "Predicted val:  7.391691\n",
      "Actual val:  7.43839671988\n",
      "\n",
      "Predicted val:  7.0401845\n",
      "Actual val:  6.2501051276999995\n",
      "\n",
      "Predicted val:  6.839683\n",
      "Actual val:  8.811876612139999\n",
      "\n",
      "Predicted val:  7.0075073\n",
      "Actual val:  5.3131405142\n",
      "\n",
      "Predicted val:  6.839683\n",
      "Actual val:  6.686620406459999\n",
      "\n",
      "Predicted val:  6.7544136\n",
      "Actual val:  7.29068700434\n",
      "\n"
     ]
    }
   ],
   "source": [
    "for i in range(num_examples):\n",
    "    print('Predicted val: ', predictions[i][0])\n",
    "    print('Actual val: ',y_test.iloc[i])\n",
    "    print()"
   ]
  },
  {
   "cell_type": "code",
   "execution_count": 14,
   "id": "4675cf01-5e7b-4a61-bc4c-17bbbcaa4d47",
   "metadata": {
    "tags": []
   },
   "outputs": [
    {
     "data": {
      "text/plain": [
       "<keras.engine.sequential.Sequential at 0x7f5200128990>"
      ]
     },
     "execution_count": 14,
     "metadata": {},
     "output_type": "execute_result"
    }
   ],
   "source": [
    "model"
   ]
  },
  {
   "cell_type": "markdown",
   "id": "3ebacd51-6036-49dc-a8f8-c8efca3a7ec9",
   "metadata": {},
   "source": [
    "## Step 6: Register and Deploy Model"
   ]
  },
  {
   "cell_type": "code",
   "execution_count": 15,
   "id": "ded11251-de7b-4be7-8521-fe348a3a6b4a",
   "metadata": {},
   "outputs": [
    {
     "name": "stdout",
     "output_type": "stream",
     "text": [
      "22-14-30\n"
     ]
    }
   ],
   "source": [
    "import time\n",
    "t = time.localtime()\n",
    "current_time = time.strftime(\"%H-%M-%S\", t)\n",
    "print(current_time)"
   ]
  },
  {
   "cell_type": "markdown",
   "id": "367d0aa8-e073-4e9d-a5f9-e4fdb852ec34",
   "metadata": {},
   "source": [
    "We are going to export our model artifact to our cloud storage bucket location. The artifacts will be stored in the export_dir variable"
   ]
  },
  {
   "cell_type": "code",
   "execution_count": 16,
   "id": "f13680a5-18ed-4fe6-bd20-63d9550b0aad",
   "metadata": {},
   "outputs": [
    {
     "name": "stdout",
     "output_type": "stream",
     "text": [
      "Exporting to gs://vertex-ai-demo-351514/export/natality_20220622-221431\n",
      "INFO:tensorflow:Assets written to: gs://vertex-ai-demo-351514/export/natality_20220622-221431/assets\n"
     ]
    }
   ],
   "source": [
    "export_dir = '{}/export/natality_{}'.format('gs://'+PROJECT_ID, time.strftime(\"%Y%m%d-%H%M%S\"))\n",
    "print('Exporting to {}'.format(export_dir))\n",
    "tf.saved_model.save(model, export_dir)"
   ]
  },
  {
   "cell_type": "markdown",
   "id": "93ec0125-e161-4a85-b40c-585f6782cbe8",
   "metadata": {},
   "source": [
    "Once we have the model artifact stored, we are going use the SDK to upload the model to the Vertex AI registry. "
   ]
  },
  {
   "cell_type": "code",
   "execution_count": 17,
   "id": "6bf60af2-988f-4d7b-babd-f1b4bdde6a91",
   "metadata": {},
   "outputs": [
    {
     "name": "stdout",
     "output_type": "stream",
     "text": [
      "Creating Model\n",
      "Create Model backing LRO: projects/697349885677/locations/us-central1/models/8678423287803412480/operations/7203329002059071488\n",
      "Model created. Resource name: projects/697349885677/locations/us-central1/models/8678423287803412480\n",
      "To use this Model in another session:\n",
      "model = aiplatform.Model('projects/697349885677/locations/us-central1/models/8678423287803412480')\n"
     ]
    }
   ],
   "source": [
    "from google.cloud import aiplatform\n",
    "my_model = aiplatform.Model.upload(display_name='natality-test'+current_time,\n",
    "                                  artifact_uri=export_dir,\n",
    "                                  serving_container_image_uri='us-docker.pkg.dev/vertex-ai/prediction/tf2-cpu.2-8:latest',\n",
    "                                  project=PROJECT_ID)\n",
    "\n"
   ]
  },
  {
   "cell_type": "markdown",
   "id": "58525b88-0d67-42c9-a630-c21a3d46ae58",
   "metadata": {},
   "source": [
    "If you go back to the Vertex AI Cloud Console, you will see that you now have created a model, let's deploy it to an endpoint"
   ]
  },
  {
   "cell_type": "code",
   "execution_count": 18,
   "id": "b9e5f3bf-a846-4039-9eb7-fe63b01bb6df",
   "metadata": {},
   "outputs": [
    {
     "name": "stdout",
     "output_type": "stream",
     "text": [
      "Creating Endpoint\n",
      "Create Endpoint backing LRO: projects/697349885677/locations/us-central1/endpoints/3447602271775358976/operations/8000466136103649280\n",
      "Endpoint created. Resource name: projects/697349885677/locations/us-central1/endpoints/3447602271775358976\n",
      "To use this Endpoint in another session:\n",
      "endpoint = aiplatform.Endpoint('projects/697349885677/locations/us-central1/endpoints/3447602271775358976')\n",
      "Deploying model to Endpoint : projects/697349885677/locations/us-central1/endpoints/3447602271775358976\n",
      "Deploy Endpoint model backing LRO: projects/697349885677/locations/us-central1/endpoints/3447602271775358976/operations/8423804501076475904\n",
      "Endpoint model deployed. Resource name: projects/697349885677/locations/us-central1/endpoints/3447602271775358976\n"
     ]
    }
   ],
   "source": [
    "endpoint = my_model.deploy(\n",
    "     deployed_model_display_name='my-endpoint',\n",
    "     traffic_split={\"0\": 100},\n",
    "     machine_type=\"n1-standard-4\",\n",
    "     accelerator_count=0,\n",
    "     min_replica_count=1,\n",
    "     max_replica_count=1,\n",
    "   )"
   ]
  },
  {
   "cell_type": "code",
   "execution_count": 43,
   "id": "ce883e41-c61b-4dcb-bfec-3b0c55562353",
   "metadata": {},
   "outputs": [
    {
     "data": {
      "text/plain": [
       "10"
      ]
     },
     "execution_count": 43,
     "metadata": {},
     "output_type": "execute_result"
    }
   ],
   "source": [
    "num_examples"
   ]
  },
  {
   "cell_type": "markdown",
   "id": "7911753d-1f0c-4f78-8489-078199c6dd6c",
   "metadata": {
    "tags": []
   },
   "source": [
    "## Step 7. Call REST Endpoint \n",
    "Then, we convert our numpy data to type float32 and to a list. We convert to a list because numpy data is not JSON serializable so we can’t send it in the body of our request"
   ]
  },
  {
   "cell_type": "code",
   "execution_count": 28,
   "id": "12063ab0-40e4-4710-a3c8-0b36b792b856",
   "metadata": {},
   "outputs": [],
   "source": [
    "results = endpoint.predict(instances=  np.asarray(x_test[:num_examples]).astype(np.float32).tolist() ).predictions"
   ]
  },
  {
   "cell_type": "code",
   "execution_count": 42,
   "id": "29680f48-530a-4337-9c90-572c6f779678",
   "metadata": {},
   "outputs": [
    {
     "name": "stdout",
     "output_type": "stream",
     "text": [
      "Predicted val:  6.68303728\n",
      "Actual val:  6.3118345610599995\n",
      "\n",
      "Predicted val:  6.48590517\n",
      "Actual val:  5.37486994756\n",
      "\n",
      "Predicted val:  7.25540447\n",
      "Actual val:  6.9996768185\n",
      "\n",
      "Predicted val:  7.6606822\n",
      "Actual val:  9.00808802532\n",
      "\n",
      "Predicted val:  7.39169121\n",
      "Actual val:  7.43839671988\n",
      "\n",
      "Predicted val:  7.04018354\n",
      "Actual val:  6.2501051276999995\n",
      "\n",
      "Predicted val:  6.83968306\n",
      "Actual val:  8.811876612139999\n",
      "\n",
      "Predicted val:  7.00750637\n",
      "Actual val:  5.3131405142\n",
      "\n",
      "Predicted val:  6.83968306\n",
      "Actual val:  6.686620406459999\n",
      "\n",
      "Predicted val:  6.75441408\n",
      "Actual val:  7.29068700434\n",
      "\n"
     ]
    }
   ],
   "source": [
    "for i in range(len(results)):\n",
    "    print('Predicted val: ', results[i][0])\n",
    "    print('Actual val: ',y_test.iloc[i])\n",
    "    print()"
   ]
  }
 ],
 "metadata": {
  "kernelspec": {
   "display_name": "TensorFlow 2 (Local)",
   "language": "python",
   "name": "local-tf2"
  },
  "language_info": {
   "codemirror_mode": {
    "name": "ipython",
    "version": 3
   },
   "file_extension": ".py",
   "mimetype": "text/x-python",
   "name": "python",
   "nbconvert_exporter": "python",
   "pygments_lexer": "ipython3",
   "version": "3.7.12"
  }
 },
 "nbformat": 4,
 "nbformat_minor": 5
}
