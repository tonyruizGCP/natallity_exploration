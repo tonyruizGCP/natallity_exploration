{
 "cells": [
  {
   "cell_type": "markdown",
   "id": "e517f52f-b728-4d71-93fb-cfcc5ed3e23b",
   "metadata": {},
   "source": [
    "## Step 0: Import Python packages"
   ]
  },
  {
   "cell_type": "code",
   "execution_count": null,
   "id": "5c265b75-29e5-4e68-83b0-849b885b5913",
   "metadata": {},
   "outputs": [],
   "source": [
    "import pandas as pd\n",
    "import tensorflow as tf\n",
    "from tensorflow.keras import Sequential\n",
    "from tensorflow.keras.layers import Dense\n",
    "\n",
    "import numpy as np\n",
    "import json\n",
    "\n",
    "from sklearn.model_selection import train_test_split\n",
    "from sklearn.utils import shuffle\n",
    "from google.cloud import bigquery\n",
    "from witwidget.notebook.visualization import WitWidget, WitConfigBuilder"
   ]
  },
  {
   "cell_type": "code",
   "execution_count": null,
   "id": "85bbea4a-c99b-469a-883b-3c11ef84f269",
   "metadata": {},
   "outputs": [],
   "source": [
    "print('hello')"
   ]
  },
  {
   "cell_type": "markdown",
   "id": "11755408-9494-4472-bb7b-f228bfc2958b",
   "metadata": {},
   "source": [
    "## Step 1: Download BigQuery data to our notebook\n"
   ]
  },
  {
   "cell_type": "code",
   "execution_count": null,
   "id": "8c81c022-1d8e-475c-a1a7-c960732d2d66",
   "metadata": {},
   "outputs": [],
   "source": [
    "\n"
   ]
  },
  {
   "cell_type": "code",
   "execution_count": 18,
   "id": "ba69f387-a417-4c18-adea-a5e3595226c5",
   "metadata": {},
   "outputs": [],
   "source": [
    "import os\n",
    "\n",
    "from google.cloud import bigquery\n",
    "\n",
    "# Find your project number \n",
    "project_number = '697349885677'\n",
    "\n",
    "client = bigquery.Client(project=project_number)"
   ]
  },
  {
   "cell_type": "code",
   "execution_count": 19,
   "id": "5a71df65-e666-4cf3-b79a-bc178454631d",
   "metadata": {},
   "outputs": [
    {
     "data": {
      "text/html": [
       "<div>\n",
       "<style scoped>\n",
       "    .dataframe tbody tr th:only-of-type {\n",
       "        vertical-align: middle;\n",
       "    }\n",
       "\n",
       "    .dataframe tbody tr th {\n",
       "        vertical-align: top;\n",
       "    }\n",
       "\n",
       "    .dataframe thead th {\n",
       "        text-align: right;\n",
       "    }\n",
       "</style>\n",
       "<table border=\"1\" class=\"dataframe\">\n",
       "  <thead>\n",
       "    <tr style=\"text-align: right;\">\n",
       "      <th></th>\n",
       "      <th>weight_pounds</th>\n",
       "      <th>is_male</th>\n",
       "      <th>mother_age</th>\n",
       "      <th>plurality</th>\n",
       "      <th>gestation_weeks</th>\n",
       "    </tr>\n",
       "  </thead>\n",
       "  <tbody>\n",
       "    <tr>\n",
       "      <th>0</th>\n",
       "      <td>6.686620</td>\n",
       "      <td>True</td>\n",
       "      <td>18</td>\n",
       "      <td>1</td>\n",
       "      <td>43.0</td>\n",
       "    </tr>\n",
       "    <tr>\n",
       "      <th>1</th>\n",
       "      <td>9.360828</td>\n",
       "      <td>True</td>\n",
       "      <td>32</td>\n",
       "      <td>1</td>\n",
       "      <td>41.0</td>\n",
       "    </tr>\n",
       "    <tr>\n",
       "      <th>2</th>\n",
       "      <td>8.437091</td>\n",
       "      <td>False</td>\n",
       "      <td>30</td>\n",
       "      <td>1</td>\n",
       "      <td>39.0</td>\n",
       "    </tr>\n",
       "    <tr>\n",
       "      <th>3</th>\n",
       "      <td>6.124442</td>\n",
       "      <td>False</td>\n",
       "      <td>24</td>\n",
       "      <td>1</td>\n",
       "      <td>40.0</td>\n",
       "    </tr>\n",
       "    <tr>\n",
       "      <th>4</th>\n",
       "      <td>7.125340</td>\n",
       "      <td>False</td>\n",
       "      <td>26</td>\n",
       "      <td>1</td>\n",
       "      <td>41.0</td>\n",
       "    </tr>\n",
       "  </tbody>\n",
       "</table>\n",
       "</div>"
      ],
      "text/plain": [
       "   weight_pounds  is_male  mother_age  plurality  gestation_weeks\n",
       "0       6.686620     True          18          1             43.0\n",
       "1       9.360828     True          32          1             41.0\n",
       "2       8.437091    False          30          1             39.0\n",
       "3       6.124442    False          24          1             40.0\n",
       "4       7.125340    False          26          1             41.0"
      ]
     },
     "execution_count": 19,
     "metadata": {},
     "output_type": "execute_result"
    }
   ],
   "source": [
    "query=\"\"\"\n",
    "SELECT\n",
    "  weight_pounds,\n",
    "  is_male,\n",
    "  mother_age,\n",
    "  plurality,\n",
    "  gestation_weeks\n",
    "FROM\n",
    "  publicdata.samples.natality\n",
    "WHERE year > 2000\n",
    "LIMIT 10000\n",
    "\"\"\"\n",
    "df = client.query(query).to_dataframe()\n",
    "df.head()"
   ]
  },
  {
   "cell_type": "code",
   "execution_count": null,
   "id": "a721abc4-151b-44f9-876a-4327b5ec0f66",
   "metadata": {
    "jupyter": {
     "source_hidden": true
    },
    "tags": []
   },
   "outputs": [],
   "source": [
    "df.describe()"
   ]
  },
  {
   "cell_type": "code",
   "execution_count": 4,
   "id": "f4552b1f-c48a-4966-94a5-a481d1a2d8c3",
   "metadata": {},
   "outputs": [
    {
     "data": {
      "text/plain": [
       "True     5150\n",
       "False    4850\n",
       "Name: is_male, dtype: int64"
      ]
     },
     "execution_count": 4,
     "metadata": {},
     "output_type": "execute_result"
    }
   ],
   "source": [
    "df['is_male'].value_counts()\n"
   ]
  },
  {
   "cell_type": "markdown",
   "id": "efe9fe02-8635-4455-966e-bfe2b680336d",
   "metadata": {},
   "source": [
    "## Step 2: Prepare the dataset for training"
   ]
  },
  {
   "cell_type": "code",
   "execution_count": 5,
   "id": "157b52ea-5076-4b22-ae55-51505eb4d157",
   "metadata": {},
   "outputs": [],
   "source": [
    "df = df.dropna()\n",
    "df = shuffle(df, random_state=2)"
   ]
  },
  {
   "cell_type": "code",
   "execution_count": 6,
   "id": "c3bb1028-d576-440e-bfad-8c7373ac766f",
   "metadata": {},
   "outputs": [],
   "source": [
    "labels = df['weight_pounds']\n",
    "data = df.drop(columns=['weight_pounds'])\n",
    "data['is_male'] = data['is_male'].astype(int)"
   ]
  },
  {
   "cell_type": "code",
   "execution_count": 7,
   "id": "0690f9b8-34d9-4144-bfc3-b4aec5f8070d",
   "metadata": {},
   "outputs": [
    {
     "data": {
      "text/html": [
       "<div>\n",
       "<style scoped>\n",
       "    .dataframe tbody tr th:only-of-type {\n",
       "        vertical-align: middle;\n",
       "    }\n",
       "\n",
       "    .dataframe tbody tr th {\n",
       "        vertical-align: top;\n",
       "    }\n",
       "\n",
       "    .dataframe thead th {\n",
       "        text-align: right;\n",
       "    }\n",
       "</style>\n",
       "<table border=\"1\" class=\"dataframe\">\n",
       "  <thead>\n",
       "    <tr style=\"text-align: right;\">\n",
       "      <th></th>\n",
       "      <th>is_male</th>\n",
       "      <th>mother_age</th>\n",
       "      <th>plurality</th>\n",
       "      <th>gestation_weeks</th>\n",
       "    </tr>\n",
       "  </thead>\n",
       "  <tbody>\n",
       "    <tr>\n",
       "      <th>39</th>\n",
       "      <td>1</td>\n",
       "      <td>32</td>\n",
       "      <td>1</td>\n",
       "      <td>41.0</td>\n",
       "    </tr>\n",
       "    <tr>\n",
       "      <th>6132</th>\n",
       "      <td>0</td>\n",
       "      <td>28</td>\n",
       "      <td>1</td>\n",
       "      <td>30.0</td>\n",
       "    </tr>\n",
       "    <tr>\n",
       "      <th>5986</th>\n",
       "      <td>0</td>\n",
       "      <td>44</td>\n",
       "      <td>1</td>\n",
       "      <td>38.0</td>\n",
       "    </tr>\n",
       "    <tr>\n",
       "      <th>7682</th>\n",
       "      <td>0</td>\n",
       "      <td>34</td>\n",
       "      <td>1</td>\n",
       "      <td>38.0</td>\n",
       "    </tr>\n",
       "    <tr>\n",
       "      <th>4910</th>\n",
       "      <td>1</td>\n",
       "      <td>31</td>\n",
       "      <td>1</td>\n",
       "      <td>40.0</td>\n",
       "    </tr>\n",
       "  </tbody>\n",
       "</table>\n",
       "</div>"
      ],
      "text/plain": [
       "      is_male  mother_age  plurality  gestation_weeks\n",
       "39          1          32          1             41.0\n",
       "6132        0          28          1             30.0\n",
       "5986        0          44          1             38.0\n",
       "7682        0          34          1             38.0\n",
       "4910        1          31          1             40.0"
      ]
     },
     "execution_count": 7,
     "metadata": {},
     "output_type": "execute_result"
    }
   ],
   "source": [
    "data.head()"
   ]
  },
  {
   "cell_type": "code",
   "execution_count": 9,
   "id": "58cc1798-63b1-4e22-beb3-f987cb026b21",
   "metadata": {},
   "outputs": [],
   "source": [
    "## Step 3: Split the data into train test sets"
   ]
  },
  {
   "cell_type": "code",
   "execution_count": 10,
   "id": "6aa9809c-4c63-4b37-a85f-b571e261dd23",
   "metadata": {},
   "outputs": [],
   "source": [
    "x,y = data,labels\n",
    "x_train,x_test,y_train,y_test = train_test_split(x,y)"
   ]
  },
  {
   "cell_type": "code",
   "execution_count": 11,
   "id": "12d88a5a-7d4b-402f-8b8c-1423e45b309e",
   "metadata": {},
   "outputs": [
    {
     "name": "stderr",
     "output_type": "stream",
     "text": [
      "2022-06-02 20:14:58.207542: W tensorflow/stream_executor/platform/default/dso_loader.cc:64] Could not load dynamic library 'libcuda.so.1'; dlerror: libcuda.so.1: cannot open shared object file: No such file or directory; LD_LIBRARY_PATH: /usr/local/cuda/lib64:/usr/local/cuda/lib:/usr/local/lib/x86_64-linux-gnu:/usr/local/nvidia/lib:/usr/local/nvidia/lib64:/usr/local/nvidia/lib:/usr/local/nvidia/lib64\n",
      "2022-06-02 20:14:58.207602: W tensorflow/stream_executor/cuda/cuda_driver.cc:269] failed call to cuInit: UNKNOWN ERROR (303)\n",
      "2022-06-02 20:14:58.207640: I tensorflow/stream_executor/cuda/cuda_diagnostics.cc:156] kernel driver does not appear to be running on this host (e0c16f336b4a): /proc/driver/nvidia/version does not exist\n",
      "2022-06-02 20:14:58.207962: I tensorflow/core/platform/cpu_feature_guard.cc:193] This TensorFlow binary is optimized with oneAPI Deep Neural Network Library (oneDNN) to use the following CPU instructions in performance-critical operations:  AVX2 FMA\n",
      "To enable them in other operations, rebuild TensorFlow with the appropriate compiler flags.\n"
     ]
    }
   ],
   "source": [
    "model = Sequential([\n",
    "    Dense(64, activation='relu', input_shape=(len(x_train.iloc[0]),)),\n",
    "    Dense(32, activation='relu'),\n",
    "    Dense(1)]\n",
    ")"
   ]
  },
  {
   "cell_type": "code",
   "execution_count": 12,
   "id": "15c51195-b152-4d5c-964f-63b15c06ab8b",
   "metadata": {},
   "outputs": [],
   "source": [
    "model.compile(optimizer=tf.keras.optimizers.RMSprop(),\n",
    "              loss=tf.keras.losses.MeanSquaredError(),\n",
    "              metrics=['mae', 'mse'])"
   ]
  },
  {
   "cell_type": "code",
   "execution_count": 13,
   "id": "58655b9b-8977-4649-b84d-e0b8eb98ccea",
   "metadata": {},
   "outputs": [
    {
     "name": "stdout",
     "output_type": "stream",
     "text": [
      "Epoch 1/10\n",
      "209/209 [==============================] - 1s 2ms/step - loss: 1.7838 - mae: 1.0383 - mse: 1.7838 - val_loss: 1.9337 - val_mae: 1.1254 - val_mse: 1.9337\n",
      "Epoch 2/10\n",
      "209/209 [==============================] - 0s 2ms/step - loss: 1.5759 - mae: 0.9863 - mse: 1.5759 - val_loss: 1.1740 - val_mae: 0.8574 - val_mse: 1.1740\n",
      "Epoch 3/10\n",
      "209/209 [==============================] - 0s 2ms/step - loss: 1.4967 - mae: 0.9552 - mse: 1.4967 - val_loss: 1.1356 - val_mae: 0.8382 - val_mse: 1.1356\n",
      "Epoch 4/10\n",
      "209/209 [==============================] - 0s 2ms/step - loss: 1.4396 - mae: 0.9410 - mse: 1.4396 - val_loss: 1.1212 - val_mae: 0.8342 - val_mse: 1.1212\n",
      "Epoch 5/10\n",
      "209/209 [==============================] - 0s 2ms/step - loss: 1.4044 - mae: 0.9291 - mse: 1.4044 - val_loss: 1.8092 - val_mae: 1.0855 - val_mse: 1.8092\n",
      "Epoch 6/10\n",
      "209/209 [==============================] - 0s 2ms/step - loss: 1.3498 - mae: 0.9104 - mse: 1.3498 - val_loss: 1.7828 - val_mae: 1.0903 - val_mse: 1.7828\n",
      "Epoch 7/10\n",
      "209/209 [==============================] - 0s 2ms/step - loss: 1.3464 - mae: 0.9094 - mse: 1.3464 - val_loss: 1.1027 - val_mae: 0.8271 - val_mse: 1.1027\n",
      "Epoch 8/10\n",
      "209/209 [==============================] - 0s 2ms/step - loss: 1.2784 - mae: 0.8848 - mse: 1.2784 - val_loss: 1.1812 - val_mae: 0.8633 - val_mse: 1.1812\n",
      "Epoch 9/10\n",
      "209/209 [==============================] - 0s 2ms/step - loss: 1.2485 - mae: 0.8721 - mse: 1.2485 - val_loss: 1.0852 - val_mae: 0.8189 - val_mse: 1.0852\n",
      "Epoch 10/10\n",
      "209/209 [==============================] - 0s 2ms/step - loss: 1.2388 - mae: 0.8735 - mse: 1.2388 - val_loss: 1.2042 - val_mae: 0.8733 - val_mse: 1.2042\n"
     ]
    },
    {
     "data": {
      "text/plain": [
       "<keras.callbacks.History at 0x7f8fdf3c3110>"
      ]
     },
     "execution_count": 13,
     "metadata": {},
     "output_type": "execute_result"
    }
   ],
   "source": [
    "model.fit(x_train, y_train, epochs=10, validation_split=0.1)\n"
   ]
  },
  {
   "cell_type": "code",
   "execution_count": 14,
   "id": "2e2579e1-479f-404c-8f17-d33beab1e314",
   "metadata": {},
   "outputs": [
    {
     "name": "stdout",
     "output_type": "stream",
     "text": [
      "1/1 [==============================] - 0s 81ms/step\n"
     ]
    }
   ],
   "source": [
    "num_examples = 10\n",
    "predictions = model.predict(x_test[:num_examples])"
   ]
  },
  {
   "cell_type": "code",
   "execution_count": 15,
   "id": "54309bba-010d-4010-ad0c-0d419f153c16",
   "metadata": {},
   "outputs": [
    {
     "name": "stdout",
     "output_type": "stream",
     "text": [
      "Predicted val:  7.0147777\n",
      "Actual val:  6.0627122049999995\n",
      "\n",
      "Predicted val:  6.588154\n",
      "Actual val:  6.686620406459999\n",
      "\n",
      "Predicted val:  7.3424263\n",
      "Actual val:  8.2342654857\n",
      "\n",
      "Predicted val:  7.481974\n",
      "Actual val:  8.858173687159999\n",
      "\n",
      "Predicted val:  7.1853013\n",
      "Actual val:  9.57026679342\n",
      "\n",
      "Predicted val:  7.223127\n",
      "Actual val:  7.7933409617\n",
      "\n",
      "Predicted val:  6.806429\n",
      "Actual val:  9.1932763254\n",
      "\n",
      "Predicted val:  6.962726\n",
      "Actual val:  6.75055446244\n",
      "\n",
      "Predicted val:  7.248742\n",
      "Actual val:  8.6421206704\n",
      "\n",
      "Predicted val:  6.767269\n",
      "Actual val:  7.25100379718\n",
      "\n"
     ]
    }
   ],
   "source": [
    "for i in range(num_examples):\n",
    "    print('Predicted val: ', predictions[i][0])\n",
    "    print('Actual val: ',y_test.iloc[i])\n",
    "    print()"
   ]
  },
  {
   "cell_type": "code",
   "execution_count": null,
   "id": "02d883b5-489e-491b-a694-126699fb9336",
   "metadata": {},
   "outputs": [],
   "source": [
    "## Register the model"
   ]
  },
  {
   "cell_type": "code",
   "execution_count": 16,
   "id": "4675cf01-5e7b-4a61-bc4c-17bbbcaa4d47",
   "metadata": {},
   "outputs": [
    {
     "data": {
      "text/plain": [
       "<keras.engine.sequential.Sequential at 0x7f9040f64e50>"
      ]
     },
     "execution_count": 16,
     "metadata": {},
     "output_type": "execute_result"
    }
   ],
   "source": [
    "model"
   ]
  }
 ],
 "metadata": {
  "kernelspec": {
   "display_name": "TensorFlow 2 (Local)",
   "language": "python",
   "name": "local-tf2"
  },
  "language_info": {
   "codemirror_mode": {
    "name": "ipython",
    "version": 3
   },
   "file_extension": ".py",
   "mimetype": "text/x-python",
   "name": "python",
   "nbconvert_exporter": "python",
   "pygments_lexer": "ipython3",
   "version": "3.7.12"
  }
 },
 "nbformat": 4,
 "nbformat_minor": 5
}
