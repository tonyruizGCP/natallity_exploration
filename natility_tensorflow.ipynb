{
 "cells": [
  {
   "cell_type": "markdown",
   "id": "e517f52f-b728-4d71-93fb-cfcc5ed3e23b",
   "metadata": {},
   "source": [
    "## Step 0: Import Python packages"
   ]
  },
  {
   "cell_type": "markdown",
   "id": "22719972-a7a3-4982-a6b7-69f3371dc859",
   "metadata": {},
   "source": [
    "Let start by importing some basic packages "
   ]
  },
  {
   "cell_type": "code",
   "execution_count": 1,
   "id": "5c265b75-29e5-4e68-83b0-849b885b5913",
   "metadata": {},
   "outputs": [],
   "source": [
    "import pandas as pd\n",
    "import tensorflow as tf\n",
    "from tensorflow.keras import Sequential\n",
    "from tensorflow.keras.layers import Dense\n",
    "\n",
    "import numpy as np\n",
    "import json\n",
    "\n",
    "from sklearn.model_selection import train_test_split\n",
    "from sklearn.utils import shuffle\n",
    "from google.cloud import bigquery\n",
    "from witwidget.notebook.visualization import WitWidget, WitConfigBuilder\n"
   ]
  },
  {
   "cell_type": "markdown",
   "id": "11755408-9494-4472-bb7b-f228bfc2958b",
   "metadata": {},
   "source": [
    "## Step 1: Download BigQuery data to our notebook\n"
   ]
  },
  {
   "cell_type": "markdown",
   "id": "861d111f-77fd-4b9f-b2be-a2073757d860",
   "metadata": {},
   "source": [
    "Click on the home button of you cloud console and fill in the values for your Project Number and Project ID. We are going to use te BigQuery Python SDK to query our Data Warehouse for the Natality dataset"
   ]
  },
  {
   "cell_type": "code",
   "execution_count": 2,
   "id": "ba69f387-a417-4c18-adea-a5e3595226c5",
   "metadata": {},
   "outputs": [],
   "source": [
    "import os\n",
    "\n",
    "from google.cloud import bigquery\n",
    "\n",
    "# Find your project number \n",
    "PROJECT_NUMBER = '697349885677'\n",
    "PROJECT_ID = 'vertex-ai-demo-351514'\n",
    "client = bigquery.Client(project=PROJECT_NUMBER)"
   ]
  },
  {
   "cell_type": "markdown",
   "id": "f1236d79-efa2-47cc-83c3-db4a7d58e7f9",
   "metadata": {},
   "source": [
    "Using the python SDK, we can use SQL to retrieve our dataset and send it to a python data frame"
   ]
  },
  {
   "cell_type": "code",
   "execution_count": 6,
   "id": "5a71df65-e666-4cf3-b79a-bc178454631d",
   "metadata": {},
   "outputs": [
    {
     "data": {
      "text/html": [
       "<div>\n",
       "<style scoped>\n",
       "    .dataframe tbody tr th:only-of-type {\n",
       "        vertical-align: middle;\n",
       "    }\n",
       "\n",
       "    .dataframe tbody tr th {\n",
       "        vertical-align: top;\n",
       "    }\n",
       "\n",
       "    .dataframe thead th {\n",
       "        text-align: right;\n",
       "    }\n",
       "</style>\n",
       "<table border=\"1\" class=\"dataframe\">\n",
       "  <thead>\n",
       "    <tr style=\"text-align: right;\">\n",
       "      <th></th>\n",
       "      <th>weight_pounds</th>\n",
       "      <th>is_male</th>\n",
       "      <th>mother_age</th>\n",
       "      <th>plurality</th>\n",
       "      <th>gestation_weeks</th>\n",
       "    </tr>\n",
       "  </thead>\n",
       "  <tbody>\n",
       "    <tr>\n",
       "      <th>0</th>\n",
       "      <td>7.063611</td>\n",
       "      <td>True</td>\n",
       "      <td>32</td>\n",
       "      <td>1</td>\n",
       "      <td>37.0</td>\n",
       "    </tr>\n",
       "    <tr>\n",
       "      <th>1</th>\n",
       "      <td>4.687028</td>\n",
       "      <td>True</td>\n",
       "      <td>30</td>\n",
       "      <td>3</td>\n",
       "      <td>33.0</td>\n",
       "    </tr>\n",
       "    <tr>\n",
       "      <th>2</th>\n",
       "      <td>7.561856</td>\n",
       "      <td>True</td>\n",
       "      <td>20</td>\n",
       "      <td>1</td>\n",
       "      <td>39.0</td>\n",
       "    </tr>\n",
       "    <tr>\n",
       "      <th>3</th>\n",
       "      <td>7.561856</td>\n",
       "      <td>True</td>\n",
       "      <td>31</td>\n",
       "      <td>1</td>\n",
       "      <td>37.0</td>\n",
       "    </tr>\n",
       "    <tr>\n",
       "      <th>4</th>\n",
       "      <td>7.312733</td>\n",
       "      <td>True</td>\n",
       "      <td>32</td>\n",
       "      <td>1</td>\n",
       "      <td>40.0</td>\n",
       "    </tr>\n",
       "  </tbody>\n",
       "</table>\n",
       "</div>"
      ],
      "text/plain": [
       "   weight_pounds  is_male  mother_age  plurality  gestation_weeks\n",
       "0       7.063611     True          32          1             37.0\n",
       "1       4.687028     True          30          3             33.0\n",
       "2       7.561856     True          20          1             39.0\n",
       "3       7.561856     True          31          1             37.0\n",
       "4       7.312733     True          32          1             40.0"
      ]
     },
     "execution_count": 6,
     "metadata": {},
     "output_type": "execute_result"
    }
   ],
   "source": [
    "query=\"\"\"\n",
    "SELECT\n",
    "  weight_pounds,\n",
    "  is_male,\n",
    "  mother_age,\n",
    "  plurality,\n",
    "  gestation_weeks\n",
    "FROM\n",
    "  publicdata.samples.natality\n",
    "WHERE year > 2000\n",
    "LIMIT 10000\n",
    "\"\"\"\n",
    "df = client.query(query).to_dataframe()\n",
    "df.head()"
   ]
  },
  {
   "cell_type": "code",
   "execution_count": 8,
   "id": "a721abc4-151b-44f9-876a-4327b5ec0f66",
   "metadata": {
    "tags": []
   },
   "outputs": [
    {
     "data": {
      "text/html": [
       "<div>\n",
       "<style scoped>\n",
       "    .dataframe tbody tr th:only-of-type {\n",
       "        vertical-align: middle;\n",
       "    }\n",
       "\n",
       "    .dataframe tbody tr th {\n",
       "        vertical-align: top;\n",
       "    }\n",
       "\n",
       "    .dataframe thead th {\n",
       "        text-align: right;\n",
       "    }\n",
       "</style>\n",
       "<table border=\"1\" class=\"dataframe\">\n",
       "  <thead>\n",
       "    <tr style=\"text-align: right;\">\n",
       "      <th></th>\n",
       "      <th>weight_pounds</th>\n",
       "      <th>mother_age</th>\n",
       "      <th>plurality</th>\n",
       "      <th>gestation_weeks</th>\n",
       "    </tr>\n",
       "  </thead>\n",
       "  <tbody>\n",
       "    <tr>\n",
       "      <th>count</th>\n",
       "      <td>9997.000000</td>\n",
       "      <td>10000.000000</td>\n",
       "      <td>10000.000000</td>\n",
       "      <td>9886.000000</td>\n",
       "    </tr>\n",
       "    <tr>\n",
       "      <th>mean</th>\n",
       "      <td>7.303938</td>\n",
       "      <td>27.226500</td>\n",
       "      <td>1.033500</td>\n",
       "      <td>38.700890</td>\n",
       "    </tr>\n",
       "    <tr>\n",
       "      <th>std</th>\n",
       "      <td>1.313289</td>\n",
       "      <td>6.194646</td>\n",
       "      <td>0.192825</td>\n",
       "      <td>2.538734</td>\n",
       "    </tr>\n",
       "    <tr>\n",
       "      <th>min</th>\n",
       "      <td>0.595248</td>\n",
       "      <td>13.000000</td>\n",
       "      <td>1.000000</td>\n",
       "      <td>18.000000</td>\n",
       "    </tr>\n",
       "    <tr>\n",
       "      <th>25%</th>\n",
       "      <td>6.624891</td>\n",
       "      <td>22.000000</td>\n",
       "      <td>1.000000</td>\n",
       "      <td>38.000000</td>\n",
       "    </tr>\n",
       "    <tr>\n",
       "      <th>50%</th>\n",
       "      <td>7.374463</td>\n",
       "      <td>27.000000</td>\n",
       "      <td>1.000000</td>\n",
       "      <td>39.000000</td>\n",
       "    </tr>\n",
       "    <tr>\n",
       "      <th>75%</th>\n",
       "      <td>8.126239</td>\n",
       "      <td>32.000000</td>\n",
       "      <td>1.000000</td>\n",
       "      <td>40.000000</td>\n",
       "    </tr>\n",
       "    <tr>\n",
       "      <th>max</th>\n",
       "      <td>12.625874</td>\n",
       "      <td>52.000000</td>\n",
       "      <td>4.000000</td>\n",
       "      <td>47.000000</td>\n",
       "    </tr>\n",
       "  </tbody>\n",
       "</table>\n",
       "</div>"
      ],
      "text/plain": [
       "       weight_pounds    mother_age     plurality  gestation_weeks\n",
       "count    9997.000000  10000.000000  10000.000000      9886.000000\n",
       "mean        7.303938     27.226500      1.033500        38.700890\n",
       "std         1.313289      6.194646      0.192825         2.538734\n",
       "min         0.595248     13.000000      1.000000        18.000000\n",
       "25%         6.624891     22.000000      1.000000        38.000000\n",
       "50%         7.374463     27.000000      1.000000        39.000000\n",
       "75%         8.126239     32.000000      1.000000        40.000000\n",
       "max        12.625874     52.000000      4.000000        47.000000"
      ]
     },
     "execution_count": 8,
     "metadata": {},
     "output_type": "execute_result"
    }
   ],
   "source": [
    "df.describe()"
   ]
  },
  {
   "cell_type": "code",
   "execution_count": 5,
   "id": "f4552b1f-c48a-4966-94a5-a481d1a2d8c3",
   "metadata": {},
   "outputs": [
    {
     "data": {
      "text/plain": [
       "True     5096\n",
       "False    4904\n",
       "Name: is_male, dtype: int64"
      ]
     },
     "execution_count": 5,
     "metadata": {},
     "output_type": "execute_result"
    }
   ],
   "source": [
    "df['is_male'].value_counts()\n"
   ]
  },
  {
   "cell_type": "markdown",
   "id": "efe9fe02-8635-4455-966e-bfe2b680336d",
   "metadata": {},
   "source": [
    "## Step 2: Prepare the dataset for training"
   ]
  },
  {
   "cell_type": "markdown",
   "id": "4ea01428-7116-4606-a0ee-e60fb6ed3fc2",
   "metadata": {},
   "source": [
    "In order to save on time and go through the lab, we are going to do some very light preprocessing."
   ]
  },
  {
   "cell_type": "code",
   "execution_count": 9,
   "id": "157b52ea-5076-4b22-ae55-51505eb4d157",
   "metadata": {},
   "outputs": [],
   "source": [
    "# drop nulls\n",
    "df = df.dropna()\n",
    "\n",
    "# shuffle is a module from sklearn utils \n",
    "df = shuffle(df, random_state=2) \n",
    "\n",
    "# grab our target column\n",
    "labels = df['weight_pounds']\n",
    "\n",
    "# grab our data\n",
    "data = df.drop(columns=['weight_pounds'])\n",
    "\n",
    "# one hot encoding\n",
    "data['is_male'] = data['is_male'].astype(int)"
   ]
  },
  {
   "cell_type": "code",
   "execution_count": 10,
   "id": "c3bb1028-d576-440e-bfad-8c7373ac766f",
   "metadata": {},
   "outputs": [],
   "source": []
  },
  {
   "cell_type": "code",
   "execution_count": 11,
   "id": "0690f9b8-34d9-4144-bfc3-b4aec5f8070d",
   "metadata": {},
   "outputs": [
    {
     "data": {
      "text/html": [
       "<div>\n",
       "<style scoped>\n",
       "    .dataframe tbody tr th:only-of-type {\n",
       "        vertical-align: middle;\n",
       "    }\n",
       "\n",
       "    .dataframe tbody tr th {\n",
       "        vertical-align: top;\n",
       "    }\n",
       "\n",
       "    .dataframe thead th {\n",
       "        text-align: right;\n",
       "    }\n",
       "</style>\n",
       "<table border=\"1\" class=\"dataframe\">\n",
       "  <thead>\n",
       "    <tr style=\"text-align: right;\">\n",
       "      <th></th>\n",
       "      <th>is_male</th>\n",
       "      <th>mother_age</th>\n",
       "      <th>plurality</th>\n",
       "      <th>gestation_weeks</th>\n",
       "    </tr>\n",
       "  </thead>\n",
       "  <tbody>\n",
       "    <tr>\n",
       "      <th>40</th>\n",
       "      <td>0</td>\n",
       "      <td>18</td>\n",
       "      <td>1</td>\n",
       "      <td>39.0</td>\n",
       "    </tr>\n",
       "    <tr>\n",
       "      <th>5976</th>\n",
       "      <td>0</td>\n",
       "      <td>22</td>\n",
       "      <td>1</td>\n",
       "      <td>47.0</td>\n",
       "    </tr>\n",
       "    <tr>\n",
       "      <th>6902</th>\n",
       "      <td>0</td>\n",
       "      <td>29</td>\n",
       "      <td>1</td>\n",
       "      <td>38.0</td>\n",
       "    </tr>\n",
       "    <tr>\n",
       "      <th>4838</th>\n",
       "      <td>0</td>\n",
       "      <td>32</td>\n",
       "      <td>1</td>\n",
       "      <td>37.0</td>\n",
       "    </tr>\n",
       "    <tr>\n",
       "      <th>8335</th>\n",
       "      <td>1</td>\n",
       "      <td>29</td>\n",
       "      <td>1</td>\n",
       "      <td>39.0</td>\n",
       "    </tr>\n",
       "  </tbody>\n",
       "</table>\n",
       "</div>"
      ],
      "text/plain": [
       "      is_male  mother_age  plurality  gestation_weeks\n",
       "40          0          18          1             39.0\n",
       "5976        0          22          1             47.0\n",
       "6902        0          29          1             38.0\n",
       "4838        0          32          1             37.0\n",
       "8335        1          29          1             39.0"
      ]
     },
     "execution_count": 11,
     "metadata": {},
     "output_type": "execute_result"
    }
   ],
   "source": [
    "data.head()"
   ]
  },
  {
   "cell_type": "markdown",
   "id": "1e039aac-d603-4806-8bbb-5eb5eae419f7",
   "metadata": {},
   "source": [
    "## Step 3: Split the data into train test sets"
   ]
  },
  {
   "cell_type": "markdown",
   "id": "69d0c560-2956-4975-ae69-e70031f091fb",
   "metadata": {},
   "source": [
    "Once the data is prepped, the next step is to perform our train test split and define our model. We will be creating a Sequential Kera model with an RELU activation function"
   ]
  },
  {
   "cell_type": "code",
   "execution_count": 12,
   "id": "6aa9809c-4c63-4b37-a85f-b571e261dd23",
   "metadata": {},
   "outputs": [],
   "source": [
    "x,y = data,labels\n",
    "x_train,x_test,y_train,y_test = train_test_split(x,y)"
   ]
  },
  {
   "cell_type": "markdown",
   "id": "3f98163c-85aa-4e97-84a4-0794057a968e",
   "metadata": {},
   "source": [
    "model = Sequential([\n",
    "    Dense(64, activation='relu', input_shape=(len(x_train.iloc[0]),)),\n",
    "    Dense(32, activation='relu'),\n",
    "    Dense(1)]\n",
    ")"
   ]
  },
  {
   "cell_type": "markdown",
   "id": "70e1d835-953d-40da-93c4-c90dbad6646a",
   "metadata": {},
   "source": [
    "## Step 4: Train the model"
   ]
  },
  {
   "cell_type": "markdown",
   "id": "f32a3903-a604-491c-b7a4-4782bd829927",
   "metadata": {},
   "source": [
    "Once we have defined the model, next step is to compile and train"
   ]
  },
  {
   "cell_type": "code",
   "execution_count": 14,
   "id": "15c51195-b152-4d5c-964f-63b15c06ab8b",
   "metadata": {},
   "outputs": [],
   "source": [
    "model.compile(optimizer=tf.keras.optimizers.RMSprop(),\n",
    "              loss=tf.keras.losses.MeanSquaredError(),\n",
    "              metrics=['mae', 'mse'])"
   ]
  },
  {
   "cell_type": "code",
   "execution_count": 15,
   "id": "58655b9b-8977-4649-b84d-e0b8eb98ccea",
   "metadata": {},
   "outputs": [
    {
     "name": "stdout",
     "output_type": "stream",
     "text": [
      "Epoch 1/10\n",
      "209/209 [==============================] - 2s 3ms/step - loss: 4.9140 - mae: 1.2787 - mse: 4.9140 - val_loss: 1.2099 - val_mae: 0.8555 - val_mse: 1.2099\n",
      "Epoch 2/10\n",
      "209/209 [==============================] - 0s 2ms/step - loss: 1.4287 - mae: 0.9333 - mse: 1.4287 - val_loss: 1.9655 - val_mae: 1.1364 - val_mse: 1.9655\n",
      "Epoch 3/10\n",
      "209/209 [==============================] - 0s 2ms/step - loss: 1.3875 - mae: 0.9178 - mse: 1.3875 - val_loss: 1.7498 - val_mae: 1.0600 - val_mse: 1.7498\n",
      "Epoch 4/10\n",
      "209/209 [==============================] - 0s 2ms/step - loss: 1.3527 - mae: 0.9072 - mse: 1.3527 - val_loss: 1.3415 - val_mae: 0.9090 - val_mse: 1.3415\n",
      "Epoch 5/10\n",
      "209/209 [==============================] - 0s 2ms/step - loss: 1.3309 - mae: 0.8916 - mse: 1.3309 - val_loss: 1.3214 - val_mae: 0.9046 - val_mse: 1.3214\n",
      "Epoch 6/10\n",
      "209/209 [==============================] - 0s 2ms/step - loss: 1.3293 - mae: 0.8931 - mse: 1.3293 - val_loss: 1.1714 - val_mae: 0.8472 - val_mse: 1.1714\n",
      "Epoch 7/10\n",
      "209/209 [==============================] - 0s 2ms/step - loss: 1.2973 - mae: 0.8835 - mse: 1.2973 - val_loss: 1.3305 - val_mae: 0.9084 - val_mse: 1.3305\n",
      "Epoch 8/10\n",
      "209/209 [==============================] - 0s 2ms/step - loss: 1.2901 - mae: 0.8835 - mse: 1.2901 - val_loss: 1.4398 - val_mae: 0.9431 - val_mse: 1.4398\n",
      "Epoch 9/10\n",
      "209/209 [==============================] - 0s 2ms/step - loss: 1.2804 - mae: 0.8803 - mse: 1.2804 - val_loss: 1.1962 - val_mae: 0.8609 - val_mse: 1.1962\n",
      "Epoch 10/10\n",
      "209/209 [==============================] - 0s 2ms/step - loss: 1.2824 - mae: 0.8774 - mse: 1.2824 - val_loss: 1.2646 - val_mae: 0.8863 - val_mse: 1.2646\n"
     ]
    },
    {
     "data": {
      "text/plain": [
       "<keras.callbacks.History at 0x7f5c4a8f9250>"
      ]
     },
     "execution_count": 15,
     "metadata": {},
     "output_type": "execute_result"
    }
   ],
   "source": [
    "model.fit(x_train, y_train, epochs=10, validation_split=0.1)\n"
   ]
  },
  {
   "cell_type": "markdown",
   "id": "c5327ddf-1540-4bea-a7a6-67633b400fdd",
   "metadata": {},
   "source": [
    "## Step 5: Evaluate the model "
   ]
  },
  {
   "cell_type": "code",
   "execution_count": null,
   "id": "da01335c-fc9e-4ef0-bd17-51e3414f77b2",
   "metadata": {},
   "outputs": [],
   "source": [
    "We can grab a set of samples from our test dataset to run a quick evaluation on our predictions."
   ]
  },
  {
   "cell_type": "code",
   "execution_count": 16,
   "id": "2e2579e1-479f-404c-8f17-d33beab1e314",
   "metadata": {},
   "outputs": [
    {
     "name": "stdout",
     "output_type": "stream",
     "text": [
      "1/1 [==============================] - 0s 113ms/step\n"
     ]
    }
   ],
   "source": [
    "num_examples = 10\n",
    "predictions = model.predict(x_test[:num_examples])"
   ]
  },
  {
   "cell_type": "code",
   "execution_count": 17,
   "id": "54309bba-010d-4010-ad0c-0d419f153c16",
   "metadata": {},
   "outputs": [
    {
     "name": "stdout",
     "output_type": "stream",
     "text": [
      "Predicted val:  7.488137\n",
      "Actual val:  7.31273323054\n",
      "\n",
      "Predicted val:  7.8713775\n",
      "Actual val:  7.06140625186\n",
      "\n",
      "Predicted val:  7.5233426\n",
      "Actual val:  6.1244416383599996\n",
      "\n",
      "Predicted val:  9.002631\n",
      "Actual val:  6.8122838958\n",
      "\n",
      "Predicted val:  7.694968\n",
      "Actual val:  8.12623897732\n",
      "\n",
      "Predicted val:  6.535587\n",
      "Actual val:  8.000575487979999\n",
      "\n",
      "Predicted val:  7.077868\n",
      "Actual val:  7.936641432\n",
      "\n",
      "Predicted val:  7.5172105\n",
      "Actual val:  5.56226287026\n",
      "\n",
      "Predicted val:  7.338104\n",
      "Actual val:  7.62578964258\n",
      "\n",
      "Predicted val:  8.127029\n",
      "Actual val:  8.811876612139999\n",
      "\n"
     ]
    }
   ],
   "source": [
    "for i in range(num_examples):\n",
    "    print('Predicted val: ', predictions[i][0])\n",
    "    print('Actual val: ',y_test.iloc[i])\n",
    "    print()"
   ]
  },
  {
   "cell_type": "code",
   "execution_count": 18,
   "id": "4675cf01-5e7b-4a61-bc4c-17bbbcaa4d47",
   "metadata": {
    "tags": []
   },
   "outputs": [
    {
     "data": {
      "text/plain": [
       "<keras.engine.sequential.Sequential at 0x7f5c4a975b50>"
      ]
     },
     "execution_count": 18,
     "metadata": {},
     "output_type": "execute_result"
    }
   ],
   "source": [
    "model"
   ]
  },
  {
   "cell_type": "markdown",
   "id": "3ebacd51-6036-49dc-a8f8-c8efca3a7ec9",
   "metadata": {},
   "source": [
    "## Step 6: Register and Deploy Model"
   ]
  },
  {
   "cell_type": "code",
   "execution_count": null,
   "id": "ded11251-de7b-4be7-8521-fe348a3a6b4a",
   "metadata": {},
   "outputs": [],
   "source": [
    "import time\n",
    "t = time.localtime()\n",
    "current_time = time.strftime(\"%H-%M-%S\", t)\n",
    "print(current_time)"
   ]
  },
  {
   "cell_type": "markdown",
   "id": "367d0aa8-e073-4e9d-a5f9-e4fdb852ec34",
   "metadata": {},
   "source": [
    "We are going to export our model artifact to our cloud storage bucket location. The artifacts will be stored in the export_dir variable"
   ]
  },
  {
   "cell_type": "code",
   "execution_count": 22,
   "id": "f13680a5-18ed-4fe6-bd20-63d9550b0aad",
   "metadata": {},
   "outputs": [
    {
     "name": "stdout",
     "output_type": "stream",
     "text": [
      "Exporting to gs://vertex-ai-demo-351514/export/natality_20220607-221449\n",
      "INFO:tensorflow:Assets written to: gs://vertex-ai-demo-351514/export/natality_20220607-221449/assets\n"
     ]
    }
   ],
   "source": [
    "export_dir = '{}/export/natality_{}'.format('gs://'+PROJECT_ID, time.strftime(\"%Y%m%d-%H%M%S\"))\n",
    "print('Exporting to {}'.format(export_dir))\n",
    "tf.saved_model.save(model, export_dir)"
   ]
  },
  {
   "cell_type": "markdown",
   "id": "93ec0125-e161-4a85-b40c-585f6782cbe8",
   "metadata": {},
   "source": [
    "Once we have the model artifact stored, we are going use the SDK to upload the model to the Vertex AI registry. "
   ]
  },
  {
   "cell_type": "code",
   "execution_count": 23,
   "id": "6bf60af2-988f-4d7b-babd-f1b4bdde6a91",
   "metadata": {},
   "outputs": [
    {
     "name": "stdout",
     "output_type": "stream",
     "text": [
      "Creating Model\n",
      "Create Model backing LRO: projects/697349885677/locations/us-central1/models/7512976146732941312/operations/8024892886426320896\n",
      "Model created. Resource name: projects/697349885677/locations/us-central1/models/7512976146732941312\n",
      "To use this Model in another session:\n",
      "model = aiplatform.Model('projects/697349885677/locations/us-central1/models/7512976146732941312')\n"
     ]
    }
   ],
   "source": [
    "from google.cloud import aiplatform\n",
    "my_model = aiplatform.Model.upload(display_name='natality-test'+current_time,\n",
    "                                  artifact_uri=export_dir,\n",
    "                                  serving_container_image_uri='us-docker.pkg.dev/vertex-ai/prediction/tf2-cpu.2-8:latest',\n",
    "                                  project=PROJECT_ID)\n",
    "\n"
   ]
  },
  {
   "cell_type": "markdown",
   "id": "58525b88-0d67-42c9-a630-c21a3d46ae58",
   "metadata": {},
   "source": [
    "If you go back to the Vertex AI Cloud Console, you will see that you now have created a model, let's deploy it to an endpoint"
   ]
  },
  {
   "cell_type": "code",
   "execution_count": 24,
   "id": "b9e5f3bf-a846-4039-9eb7-fe63b01bb6df",
   "metadata": {},
   "outputs": [
    {
     "name": "stdout",
     "output_type": "stream",
     "text": [
      "Creating Endpoint\n",
      "Create Endpoint backing LRO: projects/697349885677/locations/us-central1/endpoints/216621382857916416/operations/310226724740661248\n",
      "Endpoint created. Resource name: projects/697349885677/locations/us-central1/endpoints/216621382857916416\n",
      "To use this Endpoint in another session:\n",
      "endpoint = aiplatform.Endpoint('projects/697349885677/locations/us-central1/endpoints/216621382857916416')\n",
      "Deploying model to Endpoint : projects/697349885677/locations/us-central1/endpoints/216621382857916416\n",
      "Deploy Endpoint model backing LRO: projects/697349885677/locations/us-central1/endpoints/216621382857916416/operations/6232460234732863488\n",
      "Endpoint model deployed. Resource name: projects/697349885677/locations/us-central1/endpoints/216621382857916416\n"
     ]
    }
   ],
   "source": [
    "endpoint = my_model.deploy(\n",
    "     deployed_model_display_name='my-endpoint',\n",
    "     traffic_split={\"0\": 100},\n",
    "     machine_type=\"n1-standard-4\",\n",
    "     accelerator_count=0,\n",
    "     min_replica_count=1,\n",
    "     max_replica_count=1,\n",
    "   )"
   ]
  }
 ],
 "metadata": {
  "kernelspec": {
   "display_name": "TensorFlow 2 (Local)",
   "language": "python",
   "name": "local-tf2"
  },
  "language_info": {
   "codemirror_mode": {
    "name": "ipython",
    "version": 3
   },
   "file_extension": ".py",
   "mimetype": "text/x-python",
   "name": "python",
   "nbconvert_exporter": "python",
   "pygments_lexer": "ipython3",
   "version": "3.7.12"
  }
 },
 "nbformat": 4,
 "nbformat_minor": 5
}
